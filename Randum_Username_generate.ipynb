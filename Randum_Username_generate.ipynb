{
  "nbformat": 4,
  "nbformat_minor": 0,
  "metadata": {
    "colab": {
      "provenance": [],
      "authorship_tag": "ABX9TyNgWyOBLcQYSnlNCOkVWDco",
      "include_colab_link": true
    },
    "kernelspec": {
      "name": "python3",
      "display_name": "Python 3"
    },
    "language_info": {
      "name": "python"
    }
  },
  "cells": [
    {
      "cell_type": "markdown",
      "metadata": {
        "id": "view-in-github",
        "colab_type": "text"
      },
      "source": [
        "<a href=\"https://colab.research.google.com/github/sanjaythakor79844/Random_User_name_Generater/blob/main/Randum_Username_generate.ipynb\" target=\"_parent\"><img src=\"https://colab.research.google.com/assets/colab-badge.svg\" alt=\"Open In Colab\"/></a>"
      ]
    },
    {
      "cell_type": "code",
      "source": [
        "import random\n",
        "\n",
        "# Step 1: Define lists of adjectives and nouns\n",
        "adjectives = [\"Happy\", \"Cool\", \"Brave\", \"Smart\", \"Silly\", \"Kind\", \"Strong\", \"Lucky\", \"Charming\"]\n",
        "nouns = [\"Tiger\", \"Dragon\", \"Unicorn\", \"Lion\", \"Phoenix\", \"Knight\", \"Wizard\", \"Panda\", \"Dolphin\"]\n",
        "\n",
        "# Step 2: Function to generate random usernames\n",
        "def generate_username(include_numbers=False, include_special=False):\n",
        "    adjective = random.choice(adjectives)\n",
        "    noun = random.choice(nouns)\n",
        "    username = f\"{adjective}{noun}\"  # Combine adjective and noun\n",
        "\n",
        "    if include_numbers:\n",
        "        number = random.randint(10, 999)  # Add a random number\n",
        "        username += str(number)\n",
        "\n",
        "    if include_special:\n",
        "        special_char = random.choice(\"!@#$%^&*\")\n",
        "        username += special_char  # Add a random special character\n",
        "\n",
        "    return username\n",
        "\n",
        "# Step 3: Function to handle valid number input\n",
        "def get_valid_number(prompt):\n",
        "    while True:\n",
        "        try:\n",
        "            value = int(input(prompt))\n",
        "            if value > 0:\n",
        "                return value\n",
        "            else:\n",
        "                print(\"Please enter a positive number.\")\n",
        "        except ValueError:\n",
        "            print(\"Invalid input! Please enter a number.\")\n",
        "\n",
        "# Step 4: Main program\n",
        "def main():\n",
        "    print(\"Welcome to the Random Username Generator!\")\n",
        "\n",
        "    # Ask the user how many usernames they want\n",
        "    num_usernames = get_valid_number(\"How many usernames would you like to generate? \")\n",
        "\n",
        "    # Ask the user if they want to include numbers or special characters\n",
        "    include_numbers = input(\"Include numbers in usernames? (yes/no): \").lower() == \"yes\"\n",
        "    include_special = input(\"Include special characters in usernames? (yes/no): \").lower() == \"yes\"\n",
        "\n",
        "    # Generate the usernames\n",
        "    print(\"\\nGenerated Usernames:\")\n",
        "    usernames = []\n",
        "    for _ in range(num_usernames):\n",
        "        username = generate_username(include_numbers, include_special)\n",
        "        usernames.append(username)\n",
        "        print(username)\n",
        "\n",
        "    # Ask if the user wants to save the usernames to a file\n",
        "    save_to_file = input(\"\\nSave these usernames to a file? (yes/no): \").lower() == \"yes\"\n",
        "    if save_to_file:\n",
        "        with open(\"usernames.txt\", \"w\") as file:\n",
        "            file.write(\"\\n\".join(usernames))\n",
        "        print(\"Usernames saved to 'usernames.txt'!\")\n",
        "\n",
        "# Run the program\n",
        "if __name__ == \"__main__\":\n",
        "    main()\n"
      ],
      "metadata": {
        "colab": {
          "base_uri": "https://localhost:8080/"
        },
        "id": "nCBOsIkRiotq",
        "outputId": "345be008-6119-48c6-dab6-94a75f7ddebb"
      },
      "execution_count": 1,
      "outputs": [
        {
          "output_type": "stream",
          "name": "stdout",
          "text": [
            "Welcome to the Random Username Generator!\n",
            "How many usernames would you like to generate? 4\n",
            "Include numbers in usernames? (yes/no): yes\n",
            "Include special characters in usernames? (yes/no): yes\n",
            "\n",
            "Generated Usernames:\n",
            "HappyDragon75#\n",
            "BraveTiger237*\n",
            "HappyPanda175$\n",
            "StrongWizard649&\n",
            "\n",
            "Save these usernames to a file? (yes/no): yes\n",
            "Usernames saved to 'usernames.txt'!\n"
          ]
        }
      ]
    }
  ]
}